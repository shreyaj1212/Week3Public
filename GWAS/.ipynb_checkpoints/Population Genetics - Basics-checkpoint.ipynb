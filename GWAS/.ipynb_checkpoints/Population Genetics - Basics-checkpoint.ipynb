{
 "cells": [
  {
   "cell_type": "markdown",
   "metadata": {},
   "source": [
    "# Basics of Population Genetics"
   ]
  },
  {
   "cell_type": "markdown",
   "metadata": {},
   "source": [
    "In this notebook we will step through some of the basic concepts in population genetics. In this notebook, you will \n",
    "* Compute the allele frequency\n",
    "* Execute a chi-square test to test the association in controls and diseased population\n",
    "* Compute Hardy Weinberg Equilibrium and test if the healthy controls deviate from HWE using a chi-square test"
   ]
  },
  {
   "cell_type": "markdown",
   "metadata": {},
   "source": [
    "## Allele Frequency\n",
    "\n",
    "The frequency of an allele is defined as the total number of copies of that allele in the population divided by the total number of copies of all alleles of the gene. \n",
    "\n",
    "Assume we have a population with the following distributions:\n",
    "\n",
    "<img src = \"alleleFrequency.png\">\n",
    "\n",
    "We can calculate:\n",
    "- total number of A alleles: 2 $*$ 180 $+$ 240 $=$ 600\n",
    "- total number of a alleles: 2 $*$ 80 $+$ 240 $=$ 400\n",
    "\n",
    "*A* is referred to as the major allele and *a* is the minor allele\n",
    "\n",
    "minor allele frequency $=$ total number of *a* alleles $/$ total number of alleles\n",
    "                       $=$ 400$/$1000 \n",
    "\n"
   ]
  },
  {
   "cell_type": "markdown",
   "metadata": {},
   "source": [
    "The year is 1999, and an investigator has painstakingly genotyped 1 SNP called (rsGOINGALLIN ) in individuals with bipolar disorder and without. rsGOINGALLIN can take on the 3 genotype configurations, CC, CT, TT. He has collected the following data:\n",
    "\n",
    "\n",
    "|Disease/Controls  |CC    | CT  | TT  | \n",
    "|------------------|------|-----|-----| \n",
    "| Bipolar Disorder | 270  | 957 | 771 |\n",
    "| Healthy Controls | 436  |1398 | 1170|\n"
   ]
  },
  {
   "cell_type": "code",
   "execution_count": 26,
   "metadata": {},
   "outputs": [
    {
     "name": "stdout",
     "output_type": "stream",
     "text": [
      "Bipolar population C: 0.37462462462462465\n",
      "Bipolar population T: 0.6253753753753754\n",
      "Healthy population C: 0.37782956058588546\n",
      "Healthy population T: 0.6221704394141145\n"
     ]
    }
   ],
   "source": [
    "# What is the allele frequency (C and T) in the bipolar population? In the Controls?\n",
    "bip_c = (270*2 + 957)/((270+957+771)*2)        # minor allele frequency\n",
    "print(\"Bipolar population C: \" + str(bip_c))\n",
    "bip_t = (771*2 + 957)/((270+957+771)*2)        # major allele frequency\n",
    "print(\"Bipolar population T: \" + str(bip_t))\n",
    "health_c = (436*2+1398)/((436+1398+1170)*2)\n",
    "print(\"Healthy population C: \" + str(health_c))\n",
    "health_t = (1170*2+1398)/((436+1398+1170)*2)\n",
    "print(\"Healthy population T: \" + str(health_t))"
   ]
  },
  {
   "cell_type": "markdown",
   "metadata": {},
   "source": [
    "## Genetic Equilibrium and Hardy Weinberg Principle\n",
    "\n",
    "(courtesy: https://www.cs.cmu.edu/~genetics/units/instructions/instructions-PGE.pdf)\n",
    "\n",
    "A population is  in genetic equilibrium when allele frequencies in the gene pool remain constant across generations. A gene pool will be in equilibrium under the following conditions:\n",
    "\n",
    "* the population is very large\n",
    "* individuals in the population mate randomly\n",
    "* there is no migration into or out of the population\n",
    "* natural selection does not act on any specific genotypes\n",
    "* males and females have the same allele frequencies \n",
    "* no mutations occur\n",
    "\n",
    "In 1908 Godfrey Hardy and Wilhelm Weinberg, working independently, specified the relationship between \n",
    "genotype frequencies and allele frequencies that must occur in such an idealized population in equilibrium. This\n",
    "relationship, known as the Hardy-Weinberg principle, is important because we can use it to determine if a \n",
    "population is in equilibrium for a particular gene.\n",
    "\n",
    "<img src = \"HWE.png\" >\n",
    "\n",
    "Assume \n",
    "\n",
    "* p = The frequency of the major allele A in the population (0.6 above)\n",
    "* q = The frequency of the minor allele a in the population (0.4 above)\n",
    "\n",
    "Hardy-Weinberg principle states that when a population is in equilibrium then:\n",
    "\n",
    "* frequency of AA $= p^2$\n",
    "* frequency of Aa $= 2pq$\n",
    "* frequency of aa $= q^2$\n",
    "\n",
    "And: $p^2 + 2pq + q^2 = 1$\n"
   ]
  },
  {
   "cell_type": "markdown",
   "metadata": {},
   "source": [
    "To determine if a population is in equilibrium, given the population genotype numbers, \n",
    "\n",
    "(1) calculate the allele frequencies from the observed population genotype numbers\n",
    "\n",
    "(2) calculate the genotype frequencies from the observed genotype numbers\n",
    "\n",
    "(3) apply the Hardy-Weinberg principle to calculate the expected genotype frequencies from the allele frequencies \n",
    "in the population.\n",
    "\n",
    "(4) If the population is in Hardy-Weinberg equilibrium the observed genotype frequencies in step 2 will be \n",
    "      (roughly) the same as the expected frequencies in step 3. (A Chi-Square test is used to determine if the \n",
    "      observed and expected genotype are statistically different)\n",
    "      \n",
    "HWE $=  (observed - expected)^2 / expected$ \n",
    "\n",
    "chi.square (HWE).pvalue < 0.05 implies that the population is not in equilibrium"
   ]
  },
  {
   "cell_type": "code",
   "execution_count": 25,
   "metadata": {},
   "outputs": [
    {
     "name": "stdout",
     "output_type": "stream",
     "text": [
      "Step 2\n",
      "Healthy population CC: 0.14513981358189082\n",
      "Healthy population CT: 0.46537949400798934\n",
      "Healthy population TT: 0.38948069241011984\n",
      "\n",
      "Step 3\n",
      "Expected Healthy population CC: 0.14275517685252329\n",
      "Expected Healthy population CT: 0.47014876746672435\n",
      "Expected Healthy population TT: 0.3870960556807524\n",
      "\n",
      "Step 4\n",
      "CC HWE = 3.983387822722016e-05\n",
      "CT HWE = 4.838036574413464e-05\n",
      "TT HWE = 6.936485583701719e-05\n",
      "Power_divergenceResult(statistic=0.00010290437642710391, pvalue=0.9919062546599806)\n"
     ]
    }
   ],
   "source": [
    "# Compute the HWE equilibrium for healthy controls. Is there deviation from HWE?\n",
    "# Step 1: Allele frequencies already calculated\n",
    "\n",
    "# Step 2: Calculating genotype frequencies\n",
    "tot = 436+1398+1170\n",
    "print(\"Step 2\")\n",
    "health_cc = 436/tot\n",
    "print(\"Healthy population CC: \" + str(health_cc))\n",
    "health_ct = 1398/tot\n",
    "health_tt = 1170/tot\n",
    "print(\"Healthy population CT: \"+ str(health_ct))\n",
    "print(\"Healthy population TT: \"+ str(health_tt))\n",
    "\n",
    "# Step 3: apply HWP to calc genotype frequencies based on allele frequencies\n",
    "print(\"\\nStep 3\")\n",
    "exp_health_cc = health_c**2\n",
    "exp_health_ct = health_t * health_c * 2\n",
    "exp_health_tt = health_t**2\n",
    "print(\"Expected Healthy population CC: \" + str(exp_health_cc))\n",
    "print(\"Expected Healthy population CT: \" + str(exp_health_ct))\n",
    "print(\"Expected Healthy population TT: \" + str(exp_health_tt))\n",
    "\n",
    "# Step 4: diff between expected vs. reality\n",
    "print(\"\\nStep 4\")\n",
    "cc_hwe = (health_cc-exp_health_cc)**2/exp_health_cc\n",
    "print(\"CC HWE = \" + str(cc_hwe))\n",
    "ct_hwe = (health_ct-exp_health_ct)**2/exp_health_ct\n",
    "print(\"CT HWE = \" + str(ct_hwe))\n",
    "tt_hwe = (bip_tt-exp_bip_tt)**2/exp_bip_tt\n",
    "print(\"TT HWE = \" + str(tt_hwe))\n",
    "from scipy.stats import chisquare\n",
    "reality = [health_cc,health_ct,health_tt]\n",
    "expectations = [exp_health_cc,exp_health_ct,exp_health_tt]\n",
    "print(str(chisquare(reality,expectations,ddof=1)))"
   ]
  },
  {
   "cell_type": "markdown",
   "metadata": {},
   "source": [
    "## Genome Wide Association Studies \n",
    "\n",
    "The goal of the genome wide association studies is to determine if the difference in the allele frequencies of the diseased population is significantly different that the allele frequencies of the control population. "
   ]
  },
  {
   "cell_type": "code",
   "execution_count": 38,
   "metadata": {},
   "outputs": [
    {
     "name": "stdout",
     "output_type": "stream",
     "text": [
      "Odds Ratio: 0.9864361603672306\n",
      "p-value: 1.0\n"
     ]
    }
   ],
   "source": [
    "# Compute the odds ratio for the minor allele in the bipolar disorder vs the controls? \n",
    "import scipy\n",
    "num_bip_c=1497\n",
    "num_bip_t=2499\n",
    "num_health_c=2270\n",
    "num_health_t=3738\n",
    "odds_ratio = num_bip_c*num_health_t/(num_health_c*num_bip_t)\n",
    "print(\"Odds Ratio: \"+str(odds_ratio))\n",
    "bip = [num_bip_c,num_bip_t]\n",
    "health = [num_health_c,num_health_t]\n",
    "arr = scipy.stats.chi2_contingency(bip,health)\n",
    "print(\"p-value: \"+ str(arr[1]))                              # since p-value = 1, there is no association"
   ]
  },
  {
   "cell_type": "code",
   "execution_count": null,
   "metadata": {},
   "outputs": [],
   "source": [
    "# Execute a chi-square test to test the association of the allele frequencies in bipolar vs healthy controls? \n",
    "# Is the association signifcant?\n"
   ]
  }
 ],
 "metadata": {
  "kernelspec": {
   "display_name": "Python 3",
   "language": "python",
   "name": "python3"
  },
  "language_info": {
   "codemirror_mode": {
    "name": "ipython",
    "version": 3
   },
   "file_extension": ".py",
   "mimetype": "text/x-python",
   "name": "python",
   "nbconvert_exporter": "python",
   "pygments_lexer": "ipython3",
   "version": "3.7.3"
  }
 },
 "nbformat": 4,
 "nbformat_minor": 2
}
